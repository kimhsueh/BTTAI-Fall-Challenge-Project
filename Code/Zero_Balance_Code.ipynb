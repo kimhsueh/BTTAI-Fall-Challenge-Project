{
 "cells": [
  {
   "cell_type": "markdown",
   "metadata": {},
   "source": [
    "Import necessary libraries"
   ]
  },
  {
   "cell_type": "code",
   "execution_count": 65,
   "metadata": {},
   "outputs": [],
   "source": [
    "import os\n",
    "import pandas as pd\n",
    "import dask.dataframe as dd\n",
    "\n",
    "\n"
   ]
  },
  {
   "cell_type": "markdown",
   "metadata": {},
   "source": [
    "Path to csv files "
   ]
  },
  {
   "cell_type": "code",
   "execution_count": 66,
   "metadata": {},
   "outputs": [],
   "source": [
    "folder_path = r'C:\\Users\\sukri\\Desktop\\School Year 2023-2024\\MakaAI\\CAS-102013-082023'\n"
   ]
  },
  {
   "cell_type": "markdown",
   "metadata": {},
   "source": [
    "Reads header file, coverts column names to list"
   ]
  },
  {
   "cell_type": "code",
   "execution_count": 67,
   "metadata": {},
   "outputs": [],
   "source": [
    "header_file_path = os.path.join(folder_path, 'CRT_Header_File.csv')\n",
    "header_df = pd.read_csv(header_file_path, encoding='unicode_escape')\n",
    "header = header_df.columns.tolist()"
   ]
  },
  {
   "cell_type": "markdown",
   "metadata": {},
   "source": [
    "Creates a dataframe with the column names from header file"
   ]
  },
  {
   "cell_type": "code",
   "execution_count": 68,
   "metadata": {},
   "outputs": [],
   "source": [
    "stacked_df = pd.DataFrame(columns=header)\n"
   ]
  },
  {
   "cell_type": "markdown",
   "metadata": {},
   "source": [
    "Gets all csv files in path"
   ]
  },
  {
   "cell_type": "code",
   "execution_count": 69,
   "metadata": {},
   "outputs": [],
   "source": [
    "csv_files = [file for file in os.listdir(folder_path) if file.endswith('.csv')]\n"
   ]
  },
  {
   "cell_type": "code",
   "execution_count": 70,
   "metadata": {},
   "outputs": [],
   "source": [
    "csv_files.sort()\n"
   ]
  },
  {
   "cell_type": "markdown",
   "metadata": {},
   "source": [
    "Reads first 12 csv files, appends to stacked dataframe"
   ]
  },
  {
   "cell_type": "code",
   "execution_count": 71,
   "metadata": {},
   "outputs": [
    {
     "name": "stderr",
     "output_type": "stream",
     "text": [
      "C:\\Users\\sukri\\AppData\\Local\\Temp\\ipykernel_25072\\3250384515.py:3: DtypeWarning: Columns (42) have mixed types. Specify dtype option on import or set low_memory=False.\n",
      "  df = pd.read_csv(data_file_path, sep='|', names=header, na_values=['', 'NA'])\n",
      "C:\\Users\\sukri\\AppData\\Local\\Temp\\ipykernel_25072\\3250384515.py:3: DtypeWarning: Columns (42,82,101) have mixed types. Specify dtype option on import or set low_memory=False.\n",
      "  df = pd.read_csv(data_file_path, sep='|', names=header, na_values=['', 'NA'])\n",
      "C:\\Users\\sukri\\AppData\\Local\\Temp\\ipykernel_25072\\3250384515.py:3: DtypeWarning: Columns (42,82) have mixed types. Specify dtype option on import or set low_memory=False.\n",
      "  df = pd.read_csv(data_file_path, sep='|', names=header, na_values=['', 'NA'])\n",
      "C:\\Users\\sukri\\AppData\\Local\\Temp\\ipykernel_25072\\3250384515.py:3: DtypeWarning: Columns (42,82) have mixed types. Specify dtype option on import or set low_memory=False.\n",
      "  df = pd.read_csv(data_file_path, sep='|', names=header, na_values=['', 'NA'])\n",
      "C:\\Users\\sukri\\AppData\\Local\\Temp\\ipykernel_25072\\3250384515.py:3: DtypeWarning: Columns (42,82) have mixed types. Specify dtype option on import or set low_memory=False.\n",
      "  df = pd.read_csv(data_file_path, sep='|', names=header, na_values=['', 'NA'])\n",
      "C:\\Users\\sukri\\AppData\\Local\\Temp\\ipykernel_25072\\3250384515.py:3: DtypeWarning: Columns (42,101) have mixed types. Specify dtype option on import or set low_memory=False.\n",
      "  df = pd.read_csv(data_file_path, sep='|', names=header, na_values=['', 'NA'])\n",
      "C:\\Users\\sukri\\AppData\\Local\\Temp\\ipykernel_25072\\3250384515.py:3: DtypeWarning: Columns (42,82,101) have mixed types. Specify dtype option on import or set low_memory=False.\n",
      "  df = pd.read_csv(data_file_path, sep='|', names=header, na_values=['', 'NA'])\n",
      "C:\\Users\\sukri\\AppData\\Local\\Temp\\ipykernel_25072\\3250384515.py:3: DtypeWarning: Columns (42,82) have mixed types. Specify dtype option on import or set low_memory=False.\n",
      "  df = pd.read_csv(data_file_path, sep='|', names=header, na_values=['', 'NA'])\n",
      "C:\\Users\\sukri\\AppData\\Local\\Temp\\ipykernel_25072\\3250384515.py:3: DtypeWarning: Columns (42,82) have mixed types. Specify dtype option on import or set low_memory=False.\n",
      "  df = pd.read_csv(data_file_path, sep='|', names=header, na_values=['', 'NA'])\n",
      "C:\\Users\\sukri\\AppData\\Local\\Temp\\ipykernel_25072\\3250384515.py:3: DtypeWarning: Columns (42,82) have mixed types. Specify dtype option on import or set low_memory=False.\n",
      "  df = pd.read_csv(data_file_path, sep='|', names=header, na_values=['', 'NA'])\n"
     ]
    }
   ],
   "source": [
    "for csv_file in csv_files[:12]:\n",
    "    data_file_path = os.path.join(folder_path, csv_file)\n",
    "    df = pd.read_csv(data_file_path, sep='|', names=header, na_values=['', 'NA'])\n",
    "    df.fillna('NA', inplace=True)\n",
    "    stacked_df = pd.concat([stacked_df, df], ignore_index=True)\n"
   ]
  },
  {
   "cell_type": "code",
   "execution_count": 72,
   "metadata": {},
   "outputs": [
    {
     "data": {
      "text/html": [
       "<div>\n",
       "<style scoped>\n",
       "    .dataframe tbody tr th:only-of-type {\n",
       "        vertical-align: middle;\n",
       "    }\n",
       "\n",
       "    .dataframe tbody tr th {\n",
       "        vertical-align: top;\n",
       "    }\n",
       "\n",
       "    .dataframe thead th {\n",
       "        text-align: right;\n",
       "    }\n",
       "</style>\n",
       "<table border=\"1\" class=\"dataframe\">\n",
       "  <thead>\n",
       "    <tr style=\"text-align: right;\">\n",
       "      <th></th>\n",
       "      <th>Reference Pool ID</th>\n",
       "      <th>Loan Identifier</th>\n",
       "      <th>Monthly Reporting Period</th>\n",
       "      <th>Channel</th>\n",
       "      <th>Seller Name</th>\n",
       "      <th>Servicer Name</th>\n",
       "      <th>Master Servicer</th>\n",
       "      <th>Original Interest Rate</th>\n",
       "      <th>Current Interest Rate</th>\n",
       "      <th>Original UPB</th>\n",
       "      <th>...</th>\n",
       "      <th>Mortgage Margin</th>\n",
       "      <th>ARM Balloon Indicator</th>\n",
       "      <th>ARM Plan Number</th>\n",
       "      <th>Borrower Assistance Plan</th>\n",
       "      <th>High Loan to Value (HLTV) Refinance Option Indicator</th>\n",
       "      <th>Deal Name</th>\n",
       "      <th>Repurchase Make Whole Proceeds Flag</th>\n",
       "      <th>Alternative Delinquency Resolution</th>\n",
       "      <th>Alternative Delinquency  Resolution Count</th>\n",
       "      <th>Total Deferral Amount</th>\n",
       "    </tr>\n",
       "  </thead>\n",
       "  <tbody>\n",
       "    <tr>\n",
       "      <th>0</th>\n",
       "      <td>1501</td>\n",
       "      <td>90000001</td>\n",
       "      <td>112017</td>\n",
       "      <td>C</td>\n",
       "      <td>Flagstar Bank, FSB</td>\n",
       "      <td>Flagstar Bank, FSB</td>\n",
       "      <td>FANNIE MAE</td>\n",
       "      <td>4.375</td>\n",
       "      <td>4.375</td>\n",
       "      <td>232000.0</td>\n",
       "      <td>...</td>\n",
       "      <td>NA</td>\n",
       "      <td>NA</td>\n",
       "      <td>NA</td>\n",
       "      <td>NA</td>\n",
       "      <td>NA</td>\n",
       "      <td>NA</td>\n",
       "      <td>NA</td>\n",
       "      <td>NA</td>\n",
       "      <td>NA</td>\n",
       "      <td>NA</td>\n",
       "    </tr>\n",
       "    <tr>\n",
       "      <th>1</th>\n",
       "      <td>1501</td>\n",
       "      <td>90000002</td>\n",
       "      <td>112017</td>\n",
       "      <td>R</td>\n",
       "      <td>Other</td>\n",
       "      <td>Matrix Financial Services Corporation</td>\n",
       "      <td>FANNIE MAE</td>\n",
       "      <td>4.000</td>\n",
       "      <td>4.0</td>\n",
       "      <td>236000.0</td>\n",
       "      <td>...</td>\n",
       "      <td>NA</td>\n",
       "      <td>NA</td>\n",
       "      <td>NA</td>\n",
       "      <td>NA</td>\n",
       "      <td>NA</td>\n",
       "      <td>NA</td>\n",
       "      <td>NA</td>\n",
       "      <td>NA</td>\n",
       "      <td>NA</td>\n",
       "      <td>NA</td>\n",
       "    </tr>\n",
       "    <tr>\n",
       "      <th>2</th>\n",
       "      <td>1501</td>\n",
       "      <td>90000003</td>\n",
       "      <td>112017</td>\n",
       "      <td>C</td>\n",
       "      <td>Other</td>\n",
       "      <td>Other</td>\n",
       "      <td>FANNIE MAE</td>\n",
       "      <td>4.500</td>\n",
       "      <td>4.5</td>\n",
       "      <td>95000.0</td>\n",
       "      <td>...</td>\n",
       "      <td>NA</td>\n",
       "      <td>NA</td>\n",
       "      <td>NA</td>\n",
       "      <td>NA</td>\n",
       "      <td>NA</td>\n",
       "      <td>NA</td>\n",
       "      <td>NA</td>\n",
       "      <td>NA</td>\n",
       "      <td>NA</td>\n",
       "      <td>NA</td>\n",
       "    </tr>\n",
       "    <tr>\n",
       "      <th>3</th>\n",
       "      <td>1501</td>\n",
       "      <td>90000004</td>\n",
       "      <td>112017</td>\n",
       "      <td>R</td>\n",
       "      <td>Movement Mortgage, LLC</td>\n",
       "      <td>Matrix Financial Services Corporation</td>\n",
       "      <td>FANNIE MAE</td>\n",
       "      <td>4.625</td>\n",
       "      <td>4.625</td>\n",
       "      <td>388000.0</td>\n",
       "      <td>...</td>\n",
       "      <td>NA</td>\n",
       "      <td>NA</td>\n",
       "      <td>NA</td>\n",
       "      <td>NA</td>\n",
       "      <td>NA</td>\n",
       "      <td>NA</td>\n",
       "      <td>NA</td>\n",
       "      <td>NA</td>\n",
       "      <td>NA</td>\n",
       "      <td>NA</td>\n",
       "    </tr>\n",
       "    <tr>\n",
       "      <th>4</th>\n",
       "      <td>1501</td>\n",
       "      <td>90000005</td>\n",
       "      <td>112017</td>\n",
       "      <td>C</td>\n",
       "      <td>Wells Fargo Bank, N.A.</td>\n",
       "      <td>Wells Fargo Bank, N.A.</td>\n",
       "      <td>FANNIE MAE</td>\n",
       "      <td>4.500</td>\n",
       "      <td>4.5</td>\n",
       "      <td>248000.0</td>\n",
       "      <td>...</td>\n",
       "      <td>NA</td>\n",
       "      <td>NA</td>\n",
       "      <td>NA</td>\n",
       "      <td>NA</td>\n",
       "      <td>NA</td>\n",
       "      <td>NA</td>\n",
       "      <td>NA</td>\n",
       "      <td>NA</td>\n",
       "      <td>NA</td>\n",
       "      <td>NA</td>\n",
       "    </tr>\n",
       "  </tbody>\n",
       "</table>\n",
       "<p>5 rows × 108 columns</p>\n",
       "</div>"
      ],
      "text/plain": [
       "  Reference Pool ID Loan Identifier Monthly Reporting Period Channel  \\\n",
       "0              1501        90000001                   112017       C   \n",
       "1              1501        90000002                   112017       R   \n",
       "2              1501        90000003                   112017       C   \n",
       "3              1501        90000004                   112017       R   \n",
       "4              1501        90000005                   112017       C   \n",
       "\n",
       "              Seller Name                          Servicer Name  \\\n",
       "0      Flagstar Bank, FSB                     Flagstar Bank, FSB   \n",
       "1                   Other  Matrix Financial Services Corporation   \n",
       "2                   Other                                  Other   \n",
       "3  Movement Mortgage, LLC  Matrix Financial Services Corporation   \n",
       "4  Wells Fargo Bank, N.A.                 Wells Fargo Bank, N.A.   \n",
       "\n",
       "  Master Servicer  Original Interest Rate Current Interest Rate  Original UPB  \\\n",
       "0      FANNIE MAE                   4.375                 4.375      232000.0   \n",
       "1      FANNIE MAE                   4.000                   4.0      236000.0   \n",
       "2      FANNIE MAE                   4.500                   4.5       95000.0   \n",
       "3      FANNIE MAE                   4.625                 4.625      388000.0   \n",
       "4      FANNIE MAE                   4.500                   4.5      248000.0   \n",
       "\n",
       "   ...  Mortgage Margin  ARM Balloon Indicator ARM Plan Number  \\\n",
       "0  ...               NA                     NA              NA   \n",
       "1  ...               NA                     NA              NA   \n",
       "2  ...               NA                     NA              NA   \n",
       "3  ...               NA                     NA              NA   \n",
       "4  ...               NA                     NA              NA   \n",
       "\n",
       "  Borrower Assistance Plan  \\\n",
       "0                       NA   \n",
       "1                       NA   \n",
       "2                       NA   \n",
       "3                       NA   \n",
       "4                       NA   \n",
       "\n",
       "  High Loan to Value (HLTV) Refinance Option Indicator Deal Name  \\\n",
       "0                                                 NA          NA   \n",
       "1                                                 NA          NA   \n",
       "2                                                 NA          NA   \n",
       "3                                                 NA          NA   \n",
       "4                                                 NA          NA   \n",
       "\n",
       "  Repurchase Make Whole Proceeds Flag Alternative Delinquency Resolution  \\\n",
       "0                                  NA                                 NA   \n",
       "1                                  NA                                 NA   \n",
       "2                                  NA                                 NA   \n",
       "3                                  NA                                 NA   \n",
       "4                                  NA                                 NA   \n",
       "\n",
       "  Alternative Delinquency  Resolution Count Total Deferral Amount   \n",
       "0                                        NA                     NA  \n",
       "1                                        NA                     NA  \n",
       "2                                        NA                     NA  \n",
       "3                                        NA                     NA  \n",
       "4                                        NA                     NA  \n",
       "\n",
       "[5 rows x 108 columns]"
      ]
     },
     "execution_count": 72,
     "metadata": {},
     "output_type": "execute_result"
    }
   ],
   "source": [
    "stacked_df.head()"
   ]
  },
  {
   "cell_type": "markdown",
   "metadata": {},
   "source": [
    "Gets dimensions of dataframe"
   ]
  },
  {
   "cell_type": "code",
   "execution_count": 73,
   "metadata": {},
   "outputs": [
    {
     "data": {
      "text/plain": [
       "(2238300, 108)"
      ]
     },
     "execution_count": 73,
     "metadata": {},
     "output_type": "execute_result"
    }
   ],
   "source": [
    "stacked_df.shape"
   ]
  },
  {
   "cell_type": "code",
   "execution_count": 74,
   "metadata": {},
   "outputs": [
    {
     "name": "stderr",
     "output_type": "stream",
     "text": [
      "C:\\Users\\sukri\\AppData\\Local\\Temp\\ipykernel_25072\\264085379.py:1: PerformanceWarning: DataFrame is highly fragmented.  This is usually the result of calling `frame.insert` many times, which has poor performance.  Consider joining all columns at once using pd.concat(axis=1) instead. To get a de-fragmented frame, use `newframe = frame.copy()`\n",
      "  stacked_df['prepay']=\"N\"\n"
     ]
    }
   ],
   "source": [
    "stacked_df['prepay']=\"N\"\n"
   ]
  },
  {
   "cell_type": "markdown",
   "metadata": {},
   "source": [
    "Where the Zero Balance Code = 1, set prepay to Y\n",
    "\n",
    "Zero Balance code is code that indicates why loan is 0 "
   ]
  },
  {
   "cell_type": "code",
   "execution_count": 75,
   "metadata": {},
   "outputs": [],
   "source": [
    "stacked_df.loc[stacked_df['Zero Balance Code'] == 1, 'prepay'] = \"Y\"\n"
   ]
  },
  {
   "cell_type": "code",
   "execution_count": 76,
   "metadata": {},
   "outputs": [
    {
     "data": {
      "text/plain": [
       "0           NA\n",
       "1           NA\n",
       "2           NA\n",
       "3           NA\n",
       "4           NA\n",
       "          ... \n",
       "2238295    1.0\n",
       "2238296     NA\n",
       "2238297    1.0\n",
       "2238298     NA\n",
       "2238299    1.0\n",
       "Name: Zero Balance Code, Length: 2238300, dtype: object"
      ]
     },
     "execution_count": 76,
     "metadata": {},
     "output_type": "execute_result"
    }
   ],
   "source": [
    "stacked_df['Zero Balance Code']"
   ]
  },
  {
   "cell_type": "code",
   "execution_count": 77,
   "metadata": {},
   "outputs": [],
   "source": [
    "unique_values = stacked_df['Zero Balance Code'].unique()\n"
   ]
  },
  {
   "cell_type": "markdown",
   "metadata": {},
   "source": [
    "Gets the unique valeues of the codes in Zero Balance Code"
   ]
  },
  {
   "cell_type": "code",
   "execution_count": 78,
   "metadata": {},
   "outputs": [
    {
     "data": {
      "text/plain": [
       "array(['NA', 1.0, 96.0, 6.0, 9.0, 2.0, 3.0, 16.0, 15.0], dtype=object)"
      ]
     },
     "execution_count": 78,
     "metadata": {},
     "output_type": "execute_result"
    }
   ],
   "source": [
    "unique_values"
   ]
  },
  {
   "cell_type": "code",
   "execution_count": 79,
   "metadata": {},
   "outputs": [],
   "source": [
    "code_counts = stacked_df['Zero Balance Code'].value_counts()\n"
   ]
  },
  {
   "cell_type": "markdown",
   "metadata": {},
   "source": [
    "According to Fannie Mae website codes correspond to: \n",
    "\n",
    "01 = Prepaid or Matured\n",
    "02 = Third Party Sale\n",
    "03 = Short Sale\n",
    "06 = Repurchased\n",
    "09 = Deed-in-Lieu; REO Disposition\n",
    "15 = Notes Sales\n",
    "16 = Reperforming Loan Sale\n",
    "96 = Removal (non-credit event)\n",
    "Applies to all CAS deals prior to and including 2015-C03:\n",
    "97 = Delinquency (credit event due to D180)\n",
    "98 = Other Credit Event"
   ]
  },
  {
   "cell_type": "markdown",
   "metadata": {},
   "source": [
    "Gets count of each code in Zero Balance Code"
   ]
  },
  {
   "cell_type": "code",
   "execution_count": 80,
   "metadata": {},
   "outputs": [
    {
     "name": "stdout",
     "output_type": "stream",
     "text": [
      "Code NA: Count = 1440037\n",
      "Code 1.0: Count = 794069\n",
      "Code 96.0: Count = 2620\n",
      "Code 6.0: Count = 687\n",
      "Code 9.0: Count = 308\n",
      "Code 2.0: Count = 200\n",
      "Code 3.0: Count = 48\n",
      "Code 16.0: Count = 260\n",
      "Code 15.0: Count = 71\n"
     ]
    }
   ],
   "source": [
    "for code in unique_values:\n",
    "    count = code_counts[code]\n",
    "    print(f\"Code {code}: Count = {count}\")"
   ]
  },
  {
   "cell_type": "code",
   "execution_count": 81,
   "metadata": {},
   "outputs": [],
   "source": [
    "unique_vals = stacked_df[\"prepay\"].unique()\n",
    "prepay_counts = stacked_df['prepay'].value_counts()\n"
   ]
  },
  {
   "cell_type": "code",
   "execution_count": 82,
   "metadata": {},
   "outputs": [
    {
     "data": {
      "text/plain": [
       "array(['N', 'Y'], dtype=object)"
      ]
     },
     "execution_count": 82,
     "metadata": {},
     "output_type": "execute_result"
    }
   ],
   "source": [
    "unique_vals"
   ]
  },
  {
   "cell_type": "markdown",
   "metadata": {},
   "source": [
    "Gets unique values and counts of prepay column"
   ]
  },
  {
   "cell_type": "code",
   "execution_count": 83,
   "metadata": {},
   "outputs": [
    {
     "name": "stdout",
     "output_type": "stream",
     "text": [
      "Code N: Count = 1444231\n",
      "Code Y: Count = 794069\n"
     ]
    }
   ],
   "source": [
    "for val in unique_vals:\n",
    "    count = prepay_counts[val]\n",
    "    print(f\"Code {val}: Count = {count}\")"
   ]
  },
  {
   "cell_type": "markdown",
   "metadata": {},
   "source": [
    "Groups monthly reporting period by size "
   ]
  },
  {
   "cell_type": "code",
   "execution_count": 84,
   "metadata": {},
   "outputs": [
    {
     "data": {
      "text/plain": [
       "Monthly Reporting Period\n",
       "112017    186525\n",
       "112018    186525\n",
       "112019    186525\n",
       "112020    186525\n",
       "112021    186525\n",
       "112022    186525\n",
       "122017    186525\n",
       "122018    186525\n",
       "122019    186525\n",
       "122020    186525\n",
       "122021    186525\n",
       "122022    186525\n",
       "dtype: int64"
      ]
     },
     "execution_count": 84,
     "metadata": {},
     "output_type": "execute_result"
    }
   ],
   "source": [
    "stacked_df.groupby('Monthly Reporting Period').size()"
   ]
  },
  {
   "cell_type": "markdown",
   "metadata": {},
   "source": [
    "Creates new column that converts monthly reporting period column to proper data format"
   ]
  },
  {
   "cell_type": "code",
   "execution_count": 85,
   "metadata": {},
   "outputs": [
    {
     "name": "stderr",
     "output_type": "stream",
     "text": [
      "C:\\Users\\sukri\\AppData\\Local\\Temp\\ipykernel_25072\\1940552448.py:1: PerformanceWarning: DataFrame is highly fragmented.  This is usually the result of calling `frame.insert` many times, which has poor performance.  Consider joining all columns at once using pd.concat(axis=1) instead. To get a de-fragmented frame, use `newframe = frame.copy()`\n",
      "  stacked_df['reporting_period'] = pd.to_datetime(stacked_df['Monthly Reporting Period'].astype(str), format='%m%Y')\n"
     ]
    }
   ],
   "source": [
    "stacked_df['reporting_period'] = pd.to_datetime(stacked_df['Monthly Reporting Period'].astype(str), format='%m%Y')"
   ]
  },
  {
   "cell_type": "code",
   "execution_count": 86,
   "metadata": {},
   "outputs": [
    {
     "data": {
      "text/plain": [
       "array(['2017-11-01T00:00:00.000000000', '2018-11-01T00:00:00.000000000',\n",
       "       '2019-11-01T00:00:00.000000000', '2020-11-01T00:00:00.000000000',\n",
       "       '2021-11-01T00:00:00.000000000', '2022-11-01T00:00:00.000000000',\n",
       "       '2017-12-01T00:00:00.000000000', '2018-12-01T00:00:00.000000000',\n",
       "       '2019-12-01T00:00:00.000000000', '2020-12-01T00:00:00.000000000',\n",
       "       '2021-12-01T00:00:00.000000000', '2022-12-01T00:00:00.000000000'],\n",
       "      dtype='datetime64[ns]')"
      ]
     },
     "execution_count": 86,
     "metadata": {},
     "output_type": "execute_result"
    }
   ],
   "source": [
    "stacked_df['reporting_period'].unique()"
   ]
  },
  {
   "cell_type": "code",
   "execution_count": 87,
   "metadata": {},
   "outputs": [
    {
     "data": {
      "text/plain": [
       "reporting_period  prepay\n",
       "2017-11-01        N         186525\n",
       "2017-12-01        N         185392\n",
       "                  Y           1133\n",
       "2018-11-01        N         173590\n",
       "                  Y          12935\n",
       "2018-12-01        N         172732\n",
       "                  Y          13793\n",
       "2019-11-01        N         151293\n",
       "                  Y          35232\n",
       "2019-12-01        N         148923\n",
       "                  Y          37602\n",
       "2020-11-01        N         100507\n",
       "                  Y          86018\n",
       "2020-12-01        N          95961\n",
       "                  Y          90564\n",
       "2021-11-01        N          63019\n",
       "                  Y         123506\n",
       "2021-12-01        N          61266\n",
       "                  Y         125259\n",
       "2022-11-01        N          52659\n",
       "                  Y         133866\n",
       "2022-12-01        N          52364\n",
       "                  Y         134161\n",
       "dtype: int64"
      ]
     },
     "execution_count": 87,
     "metadata": {},
     "output_type": "execute_result"
    }
   ],
   "source": [
    "stacked_df.groupby(['reporting_period','prepay']).size()"
   ]
  },
  {
   "cell_type": "code",
   "execution_count": 88,
   "metadata": {},
   "outputs": [
    {
     "data": {
      "text/plain": [
       "0          229722.24\n",
       "1          234881.62\n",
       "2           94479.62\n",
       "3          384968.45\n",
       "4          245526.03\n",
       "             ...    \n",
       "2238295         0.00\n",
       "2238296     96558.76\n",
       "2238297         0.00\n",
       "2238298    308248.48\n",
       "2238299         0.00\n",
       "Name: Current Actual UPB, Length: 2238300, dtype: float64"
      ]
     },
     "execution_count": 88,
     "metadata": {},
     "output_type": "execute_result"
    }
   ],
   "source": [
    "stacked_df[\"Current Actual UPB\"]"
   ]
  },
  {
   "cell_type": "markdown",
   "metadata": {},
   "source": [
    "Displaying basic info about dataset"
   ]
  },
  {
   "cell_type": "code",
   "execution_count": 89,
   "metadata": {},
   "outputs": [
    {
     "name": "stdout",
     "output_type": "stream",
     "text": [
      "<class 'pandas.core.frame.DataFrame'>\n",
      "RangeIndex: 2238300 entries, 0 to 2238299\n",
      "Columns: 110 entries, Reference Pool ID to reporting_period\n",
      "dtypes: datetime64[ns](1), float64(6), object(103)\n",
      "memory usage: 1.8+ GB\n"
     ]
    }
   ],
   "source": [
    "stacked_df.info()"
   ]
  },
  {
   "cell_type": "code",
   "execution_count": 90,
   "metadata": {},
   "outputs": [
    {
     "data": {
      "text/html": [
       "<div>\n",
       "<style scoped>\n",
       "    .dataframe tbody tr th:only-of-type {\n",
       "        vertical-align: middle;\n",
       "    }\n",
       "\n",
       "    .dataframe tbody tr th {\n",
       "        vertical-align: top;\n",
       "    }\n",
       "\n",
       "    .dataframe thead th {\n",
       "        text-align: right;\n",
       "    }\n",
       "</style>\n",
       "<table border=\"1\" class=\"dataframe\">\n",
       "  <thead>\n",
       "    <tr style=\"text-align: right;\">\n",
       "      <th></th>\n",
       "      <th>Original Interest Rate</th>\n",
       "      <th>Original UPB</th>\n",
       "      <th>UPB at Issuance</th>\n",
       "      <th>Current Actual UPB</th>\n",
       "      <th>Cumulative Modification Loss Amount</th>\n",
       "      <th>Cumulative Credit Event Net Gain or Loss</th>\n",
       "    </tr>\n",
       "  </thead>\n",
       "  <tbody>\n",
       "    <tr>\n",
       "      <th>count</th>\n",
       "      <td>2.238300e+06</td>\n",
       "      <td>2.238300e+06</td>\n",
       "      <td>2.238300e+06</td>\n",
       "      <td>2.238300e+06</td>\n",
       "      <td>2.238300e+06</td>\n",
       "      <td>2.238300e+06</td>\n",
       "    </tr>\n",
       "    <tr>\n",
       "      <th>mean</th>\n",
       "      <td>4.377809e+00</td>\n",
       "      <td>2.438257e+05</td>\n",
       "      <td>2.409014e+05</td>\n",
       "      <td>1.423023e+05</td>\n",
       "      <td>1.809045e+00</td>\n",
       "      <td>3.582695e+00</td>\n",
       "    </tr>\n",
       "    <tr>\n",
       "      <th>std</th>\n",
       "      <td>3.660537e-01</td>\n",
       "      <td>1.229430e+05</td>\n",
       "      <td>1.222128e+05</td>\n",
       "      <td>1.417343e+05</td>\n",
       "      <td>1.019355e+02</td>\n",
       "      <td>4.591742e+02</td>\n",
       "    </tr>\n",
       "    <tr>\n",
       "      <th>min</th>\n",
       "      <td>3.125000e+00</td>\n",
       "      <td>1.200000e+04</td>\n",
       "      <td>5.390770e+03</td>\n",
       "      <td>0.000000e+00</td>\n",
       "      <td>0.000000e+00</td>\n",
       "      <td>-9.459901e+04</td>\n",
       "    </tr>\n",
       "    <tr>\n",
       "      <th>25%</th>\n",
       "      <td>4.125000e+00</td>\n",
       "      <td>1.480000e+05</td>\n",
       "      <td>1.460381e+05</td>\n",
       "      <td>0.000000e+00</td>\n",
       "      <td>0.000000e+00</td>\n",
       "      <td>0.000000e+00</td>\n",
       "    </tr>\n",
       "    <tr>\n",
       "      <th>50%</th>\n",
       "      <td>4.330000e+00</td>\n",
       "      <td>2.230000e+05</td>\n",
       "      <td>2.193503e+05</td>\n",
       "      <td>1.234188e+05</td>\n",
       "      <td>0.000000e+00</td>\n",
       "      <td>0.000000e+00</td>\n",
       "    </tr>\n",
       "    <tr>\n",
       "      <th>75%</th>\n",
       "      <td>4.625000e+00</td>\n",
       "      <td>3.210000e+05</td>\n",
       "      <td>3.178772e+05</td>\n",
       "      <td>2.354730e+05</td>\n",
       "      <td>0.000000e+00</td>\n",
       "      <td>0.000000e+00</td>\n",
       "    </tr>\n",
       "    <tr>\n",
       "      <th>max</th>\n",
       "      <td>6.125000e+00</td>\n",
       "      <td>1.223000e+06</td>\n",
       "      <td>1.218732e+06</td>\n",
       "      <td>1.218732e+06</td>\n",
       "      <td>2.445913e+04</td>\n",
       "      <td>1.226971e+05</td>\n",
       "    </tr>\n",
       "  </tbody>\n",
       "</table>\n",
       "</div>"
      ],
      "text/plain": [
       "       Original Interest Rate  Original UPB  UPB at Issuance  \\\n",
       "count            2.238300e+06  2.238300e+06     2.238300e+06   \n",
       "mean             4.377809e+00  2.438257e+05     2.409014e+05   \n",
       "std              3.660537e-01  1.229430e+05     1.222128e+05   \n",
       "min              3.125000e+00  1.200000e+04     5.390770e+03   \n",
       "25%              4.125000e+00  1.480000e+05     1.460381e+05   \n",
       "50%              4.330000e+00  2.230000e+05     2.193503e+05   \n",
       "75%              4.625000e+00  3.210000e+05     3.178772e+05   \n",
       "max              6.125000e+00  1.223000e+06     1.218732e+06   \n",
       "\n",
       "       Current Actual UPB  Cumulative Modification Loss Amount  \\\n",
       "count        2.238300e+06                         2.238300e+06   \n",
       "mean         1.423023e+05                         1.809045e+00   \n",
       "std          1.417343e+05                         1.019355e+02   \n",
       "min          0.000000e+00                         0.000000e+00   \n",
       "25%          0.000000e+00                         0.000000e+00   \n",
       "50%          1.234188e+05                         0.000000e+00   \n",
       "75%          2.354730e+05                         0.000000e+00   \n",
       "max          1.218732e+06                         2.445913e+04   \n",
       "\n",
       "       Cumulative Credit Event Net Gain or Loss  \n",
       "count                              2.238300e+06  \n",
       "mean                               3.582695e+00  \n",
       "std                                4.591742e+02  \n",
       "min                               -9.459901e+04  \n",
       "25%                                0.000000e+00  \n",
       "50%                                0.000000e+00  \n",
       "75%                                0.000000e+00  \n",
       "max                                1.226971e+05  "
      ]
     },
     "execution_count": 90,
     "metadata": {},
     "output_type": "execute_result"
    }
   ],
   "source": [
    "stacked_df.describe()"
   ]
  },
  {
   "cell_type": "code",
   "execution_count": 91,
   "metadata": {},
   "outputs": [],
   "source": [
    "numeric_df = stacked_df.select_dtypes(include='number')"
   ]
  },
  {
   "cell_type": "code",
   "execution_count": 92,
   "metadata": {},
   "outputs": [
    {
     "data": {
      "text/plain": [
       "Index(['Original Interest Rate', 'Original UPB', 'UPB at Issuance',\n",
       "       'Current Actual UPB', 'Cumulative Modification Loss Amount',\n",
       "       'Cumulative Credit Event Net Gain or Loss'],\n",
       "      dtype='object')"
      ]
     },
     "execution_count": 92,
     "metadata": {},
     "output_type": "execute_result"
    }
   ],
   "source": [
    "numeric_df.columns"
   ]
  },
  {
   "cell_type": "code",
   "execution_count": 93,
   "metadata": {},
   "outputs": [],
   "source": [
    "correlation= stacked_df['Original UPB'].corr(stacked_df['Current Actual UPB'])"
   ]
  },
  {
   "cell_type": "code",
   "execution_count": 94,
   "metadata": {},
   "outputs": [
    {
     "name": "stdout",
     "output_type": "stream",
     "text": [
      "0.42764113812529836\n"
     ]
    }
   ],
   "source": [
    "print(correlation)"
   ]
  },
  {
   "cell_type": "markdown",
   "metadata": {},
   "source": [
    "Cleaning up data"
   ]
  },
  {
   "cell_type": "code",
   "execution_count": 95,
   "metadata": {},
   "outputs": [],
   "source": [
    "stacked_df = stacked_df.dropna(subset=['Loan Age'])\n",
    "stacked_df = stacked_df.dropna(subset=['Zero Balance Code'])\n",
    "stacked_df = stacked_df[stacked_df['Zero Balance Code'] != \"NA\"]\n",
    "\n"
   ]
  },
  {
   "cell_type": "code",
   "execution_count": 98,
   "metadata": {},
   "outputs": [
    {
     "data": {
      "text/plain": [
       "array([1.0, 96.0, 6.0, 9.0, 2.0, 3.0, 16.0, 15.0], dtype=object)"
      ]
     },
     "execution_count": 98,
     "metadata": {},
     "output_type": "execute_result"
    }
   ],
   "source": [
    "stacked_df[\"Zero Balance Code\"].unique()"
   ]
  },
  {
   "cell_type": "code",
   "execution_count": 107,
   "metadata": {},
   "outputs": [
    {
     "data": {
      "text/plain": [
       "array([4.875, 4.5  , 4.125, 4.   , 4.375, 4.625, 3.875, 5.   , 4.25 ,\n",
       "       5.375, 4.75 , 4.56 , 5.125, 4.225, 5.25 , 4.99 , 5.5  , 3.75 ,\n",
       "       5.139, 3.99 , 4.24 , 4.15 , 4.2  , 3.925, 6.   , 4.95 , 3.375,\n",
       "       4.55 , 5.08 , 3.625, 4.18 , 4.1  , 5.875, 6.125, 4.06 , 4.58 ,\n",
       "       5.1  , 5.625, 5.75 , 4.633, 4.175, 5.098, 3.975, 4.611, 3.999,\n",
       "       4.959, 4.572, 3.95 , 4.3  , 4.74 , 4.865, 4.887, 4.49 , 4.115,\n",
       "       4.365, 4.543, 4.075, 4.7  , 4.157, 4.701, 3.8  , 3.615, 4.499,\n",
       "       4.8  , 4.6  , 4.588, 3.5  , 3.826, 4.83 , 5.104, 4.925, 4.45 ,\n",
       "       4.025, 3.865, 4.035, 5.2  , 4.386, 4.275, 4.498, 3.7  , 4.245,\n",
       "       4.73 , 4.281, 4.372, 4.09 , 5.153, 4.34 , 4.91 , 4.975, 4.265,\n",
       "       4.05 , 4.299, 5.115, 5.122, 4.775, 4.109, 4.44 , 4.336, 4.717,\n",
       "       4.314, 4.669, 4.54 , 4.19 , 4.067, 4.874, 4.054, 5.05 , 4.703,\n",
       "       4.306, 4.575, 4.303, 4.423, 4.021, 5.028, 4.4  , 4.812, 4.35 ,\n",
       "       4.928, 4.615, 4.169, 4.438, 5.187, 4.72 , 4.599, 4.699, 4.249,\n",
       "       4.29 , 3.956, 4.675, 5.072, 4.352, 4.063, 4.188, 4.08 , 5.3  ,\n",
       "       4.624, 3.9  , 4.03 , 4.782, 4.59 , 3.813, 4.318, 4.227, 4.749,\n",
       "       3.806, 4.374, 4.107, 4.97 , 4.17 , 4.278, 4.85 , 3.74 , 4.344,\n",
       "       4.819, 3.25 , 4.658, 4.31 , 3.85 , 4.475, 3.339, 4.158, 4.866,\n",
       "       4.995, 3.518, 4.145, 4.589, 4.327, 4.621, 4.999, 4.325, 4.066,\n",
       "       4.387, 4.487, 4.095, 4.493, 4.545, 4.147, 4.349, 3.763, 4.181,\n",
       "       4.525, 4.425, 4.33 , 4.036, 4.676, 4.218, 3.987, 4.474, 4.149,\n",
       "       3.786, 4.649, 4.584, 4.547, 4.479, 4.369, 4.598, 4.587, 4.441,\n",
       "       3.969, 4.254, 4.253, 4.124, 4.455, 4.934, 5.55 , 4.273, 4.406,\n",
       "       3.993, 4.869, 4.468, 4.053, 4.781, 4.619, 3.53 , 4.994, 4.609,\n",
       "       4.52 , 4.411, 5.239, 4.557, 4.492, 3.71 , 3.784, 4.361, 3.983,\n",
       "       4.266, 4.13 , 4.345, 4.024, 5.02 , 4.081, 4.324, 3.674, 4.215,\n",
       "       4.61 , 4.251, 4.84 , 4.085, 3.739, 4.196, 3.938, 4.068, 4.568,\n",
       "       4.097, 4.476, 4.664, 4.958, 4.289, 4.285, 4.07 , 4.343, 3.96 ,\n",
       "       3.708, 4.399, 4.119, 4.087, 4.594, 4.055, 4.377, 5.067, 4.16 ,\n",
       "       5.094, 4.339, 4.534, 4.684, 4.057, 4.172, 4.397, 3.662, 3.968,\n",
       "       3.934, 4.378, 4.67 , 4.924, 5.249, 4.354, 4.585, 4.238, 5.169,\n",
       "       3.955, 4.248, 4.076, 4.976, 4.077, 4.177, 3.94 , 4.68 , 3.77 ,\n",
       "       4.746, 4.209, 4.086, 4.328, 4.881, 4.65 , 4.544, 4.42 , 4.136,\n",
       "       3.93 , 5.18 , 4.02 , 4.341, 4.222, 4.797, 4.57 , 4.813, 4.123,\n",
       "       4.608, 4.049, 5.205, 4.032, 3.775, 4.755, 4.23 , 3.846, 4.102,\n",
       "       4.351, 3.835, 4.489, 3.953, 4.267, 3.748, 5.091, 4.11 , 4.674,\n",
       "       4.128, 4.261, 5.24 , 4.516, 4.096, 4.113, 5.124, 5.136, 4.697,\n",
       "       3.672, 4.541, 4.936, 4.193, 4.195, 3.971, 3.73 , 4.244, 4.422,\n",
       "       4.298, 4.458, 4.427, 4.359, 4.072, 4.418, 4.945, 4.079, 3.749,\n",
       "       4.043, 5.4  , 4.286, 4.552, 4.616, 4.21 , 4.757, 4.754, 4.171,\n",
       "       4.101, 4.472, 3.924, 3.974, 4.835, 5.04 , 4.26 , 5.147, 4.12 ,\n",
       "       4.452, 4.634, 3.921, 3.83 , 4.678, 4.486, 4.313, 3.54 , 4.526,\n",
       "       4.011, 4.708, 4.533, 4.208, 4.442, 4.362, 4.991, 4.602, 4.37 ,\n",
       "       4.229, 4.434, 4.028, 5.157, 4.28 , 4.148, 4.019, 3.917, 4.203,\n",
       "       4.287, 3.97 , 4.295, 4.39 , 4.382, 4.092, 4.146, 4.988, 4.156,\n",
       "       4.756, 4.301, 3.948, 4.167, 4.214, 4.082, 5.018, 4.919, 4.834,\n",
       "       4.709, 4.462, 3.741, 5.015, 4.558, 3.964, 4.485, 4.151, 4.989,\n",
       "       4.79 , 3.961, 4.239, 4.197, 4.806, 4.43 , 3.912, 4.259, 3.959,\n",
       "       4.184, 4.331, 4.039, 4.463, 4.725, 4.316, 4.117, 4.753, 4.163,\n",
       "       4.536, 3.726, 3.725, 4.9  , 3.994, 3.64 , 4.467, 3.841, 4.204,\n",
       "       4.893, 5.173, 4.315, 3.929, 4.283, 4.562, 4.549, 4.355, 4.099,\n",
       "       4.974, 4.296, 4.81 , 4.767, 4.851, 4.396, 5.081, 3.6  , 4.517,\n",
       "       4.774, 4.794, 4.695, 4.577, 4.356, 4.083, 4.138, 4.198, 3.979,\n",
       "       3.976, 4.889, 3.874, 3.623, 4.447, 4.897, 4.742, 4.005, 4.104,\n",
       "       4.714, 5.137, 4.596, 4.205, 4.044, 4.414, 4.194, 4.154, 5.17 ,\n",
       "       3.499, 5.083, 3.992, 4.337, 4.385, 4.808, 4.363, 4.482, 3.758,\n",
       "       3.923, 3.808, 4.069, 4.14 , 4.453, 4.309, 4.514, 4.429, 4.672,\n",
       "       3.793, 5.242, 3.503, 3.69 , 4.408, 4.955, 4.031, 3.89 , 4.691,\n",
       "       4.681, 4.014, 5.334, 4.459, 3.589, 3.98 , 4.224, 5.33 , 5.09 ,\n",
       "       3.49 , 4.168, 4.32 , 3.833, 4.074, 3.966, 4.22 , 5.064, 5.017,\n",
       "       4.607, 4.495, 4.236, 5.042, 4.202, 5.161, 4.867, 4.155, 4.026,\n",
       "       4.496, 3.896, 4.139, 4.71 , 4.152, 5.058, 4.863, 4.103, 4.323,\n",
       "       5.082, 4.626, 5.198, 4.358, 4.877, 5.099, 4.04 , 3.651, 4.114,\n",
       "       4.907, 5.135, 3.967, 4.666, 4.384, 4.371, 4.807, 4.645, 5.041,\n",
       "       4.477, 4.69 , 4.978, 5.087, 4.023, 4.854, 4.255, 4.122, 4.41 ,\n",
       "       5.15 , 4.692, 5.029])"
      ]
     },
     "execution_count": 107,
     "metadata": {},
     "output_type": "execute_result"
    }
   ],
   "source": [
    "stacked_df[\"Original Interest Rate\"].unique()"
   ]
  },
  {
   "cell_type": "code",
   "execution_count": 118,
   "metadata": {},
   "outputs": [
    {
     "data": {
      "image/png": "[encoded data removed]",
      "text/plain": [
       "<Figure size 640x480 with 1 Axes>"
      ]
     },
     "metadata": {},
     "output_type": "display_data"
    }
   ],
   "source": [
    "import seaborn as sns\n",
    "import matplotlib.pyplot as plt\n",
    "\n",
    "sns.boxplot(x='Zero Balance Code', y='Original Interest Rate', data=stacked_df)\n",
    "plt.show()\n"
   ]
  },
  {
   "cell_type": "code",
   "execution_count": 132,
   "metadata": {},
   "outputs": [
    {
     "data": {
      "image/png": "[encoded data removed]",
      "text/plain": [
       "<Figure size 640x480 with 1 Axes>"
      ]
     },
     "metadata": {},
     "output_type": "display_data"
    }
   ],
   "source": [
    "sns.boxplot(x='Zero Balance Code', y='Original UPB', data=stacked_df)\n",
    "plt.show()\n"
   ]
  },
  {
   "cell_type": "code",
   "execution_count": 138,
   "metadata": {},
   "outputs": [],
   "source": [
    "from scipy.stats import chi2_contingency\n",
    "\n",
    "contingency_table = pd.crosstab(stacked_df['Zero Balance Code'], stacked_df['prepay'])\n",
    "chi2, p, _, _ = chi2_contingency(contingency_table)"
   ]
  },
  {
   "cell_type": "code",
   "execution_count": 140,
   "metadata": {},
   "outputs": [
    {
     "data": {
      "text/plain": [
       "798263.0000000001"
      ]
     },
     "execution_count": 140,
     "metadata": {},
     "output_type": "execute_result"
    }
   ],
   "source": [
    "chi2"
   ]
  },
  {
   "cell_type": "code",
   "execution_count": 158,
   "metadata": {},
   "outputs": [
    {
     "data": {
      "image/png": "[encoded data removed]",
      "text/plain": [
       "<Figure size 1000x500 with 1 Axes>"
      ]
     },
     "metadata": {},
     "output_type": "display_data"
    }
   ],
   "source": [
    "\n",
    "# Create histograms\n",
    "plt.figure(figsize=(10, 5))\n",
    "for category in stacked_df['prepay'].unique():\n",
    "    subset = stacked_df[stacked_df['prepay'] == category]\n",
    "    plt.hist(subset['Original UPB'], alpha=0.5, label=str(category))\n",
    "\n",
    "plt.xlabel('Original UPB')\n",
    "plt.ylabel('Frequency')\n",
    "plt.legend(title='Prepay')\n",
    "plt.show()\n"
   ]
  },
  {
   "cell_type": "code",
   "execution_count": 169,
   "metadata": {},
   "outputs": [
    {
     "data": {
      "text/plain": [
       "array(['N', 'Y'], dtype=object)"
      ]
     },
     "execution_count": 169,
     "metadata": {},
     "output_type": "execute_result"
    }
   ],
   "source": [
    "stacked_df[\"First Time Home Buyer Indicator\"].unique()"
   ]
  },
  {
   "cell_type": "code",
   "execution_count": 171,
   "metadata": {},
   "outputs": [],
   "source": [
    "home_counts = stacked_df['First Time Home Buyer Indicator'].value_counts()"
   ]
  },
  {
   "cell_type": "code",
   "execution_count": 172,
   "metadata": {},
   "outputs": [
    {
     "data": {
      "text/plain": [
       "N    663032\n",
       "Y    135231\n",
       "Name: First Time Home Buyer Indicator, dtype: int64"
      ]
     },
     "execution_count": 172,
     "metadata": {},
     "output_type": "execute_result"
    }
   ],
   "source": [
    "home_counts"
   ]
  },
  {
   "cell_type": "code",
   "execution_count": 175,
   "metadata": {},
   "outputs": [],
   "source": [
    "from scipy.stats import chi2_contingency\n",
    "\n",
    "contingency_table = pd.crosstab(stacked_df['First Time Home Buyer Indicator'], stacked_df['prepay'])\n",
    "chi2, p, _, _ = chi2_contingency(contingency_table)"
   ]
  },
  {
   "cell_type": "code",
   "execution_count": 176,
   "metadata": {},
   "outputs": [
    {
     "data": {
      "text/plain": [
       "0.003381163941534699"
      ]
     },
     "execution_count": 176,
     "metadata": {},
     "output_type": "execute_result"
    }
   ],
   "source": [
    "p"
   ]
  }
 ],
 "metadata": {
  "kernelspec": {
   "display_name": "Python 3",
   "language": "python",
   "name": "python3"
  },
  "language_info": {
   "codemirror_mode": {
    "name": "ipython",
    "version": 3
   },
   "file_extension": ".py",
   "mimetype": "text/x-python",
   "name": "python",
   "nbconvert_exporter": "python",
   "pygments_lexer": "ipython3",
   "version": "3.10.11"
  },
  "orig_nbformat": 4
 },
 "nbformat": 4,
 "nbformat_minor": 2
}
